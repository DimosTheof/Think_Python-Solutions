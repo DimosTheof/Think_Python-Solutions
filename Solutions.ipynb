{
 "cells": [
  {
   "cell_type": "markdown",
   "id": "45658e1c",
   "metadata": {},
   "source": [
    "# Chapter 2"
   ]
  },
  {
   "cell_type": "code",
   "execution_count": null,
   "id": "b0124e07",
   "metadata": {},
   "outputs": [],
   "source": [
    "#Exercise 2.2\n",
    "\n",
    "#1.Volume sphere\n",
    "\n",
    "pi=3.14\n",
    "r=5\n",
    "volume=(4/3)*pi*r**3\n",
    "print(\"The volume of a sphere with radius r=\",r,\"is:\",volume)\n",
    "\n",
    "#2.total cost\n",
    "cp=60\n",
    "price=24.95\n",
    "disc=price-(40*price)/100\n",
    "print(disc)\n",
    "total=disc*cp+3+(cp-1)*0.75\n",
    "print(\"The total cost of\",cp,\"books, is:\",total)\n",
    "\n",
    "#3.miles\n",
    "easy=(8*60+15)\n",
    "mild=(7*60+12)\n",
    "total_time=2*easy+3*mild\n",
    "mins=total_time//60\n",
    "print(\"The time of arrival is 7.\",mins-8)"
   ]
  },
  {
   "cell_type": "markdown",
   "id": "cfbffdbf",
   "metadata": {},
   "source": [
    "# Chapter 3"
   ]
  },
  {
   "cell_type": "markdown",
   "id": "43d8d779",
   "metadata": {},
   "source": [
    "## Exercise 3.1"
   ]
  },
  {
   "cell_type": "code",
   "execution_count": null,
   "id": "3f67cc99",
   "metadata": {},
   "outputs": [],
   "source": [
    "def right_justify(s):\n",
    "    print(s+\" \"*(70-len(s)))\n",
    "    print(len(s+\" \"*(70-len(s))))\n",
    "    \n",
    "    \n",
    "right_justify(\"monty\")"
   ]
  },
  {
   "cell_type": "markdown",
   "id": "b7d55704",
   "metadata": {},
   "source": [
    "## Exercise 3.2"
   ]
  },
  {
   "cell_type": "code",
   "execution_count": null,
   "id": "fea66d0c",
   "metadata": {},
   "outputs": [],
   "source": [
    "def do_twice(f,value):\n",
    "    f(value)\n",
    "    f(value)\n",
    "\n",
    "def do_four(f,value):\n",
    "    do_twice(f,value)\n",
    "    do_twice(f,value)\n",
    "    \n",
    "def print_two(arg):\n",
    "    print(arg)\n",
    "    print(arg)\n",
    "    \n",
    "do_four(print,\"yes\")"
   ]
  },
  {
   "cell_type": "markdown",
   "id": "8c0e4fa8",
   "metadata": {},
   "source": [
    "## Exercise 3.3 "
   ]
  },
  {
   "cell_type": "code",
   "execution_count": null,
   "id": "8de1b416",
   "metadata": {},
   "outputs": [],
   "source": [
    "def dash():\n",
    "    print(\"|\"+\" \"*4+\"|\"+\" \"*4+\"|\")\n",
    "    \n",
    "def cross():\n",
    "    strings=\"+\"+\"-\"*4\n",
    "    print(strings*2+\"+\")\n",
    "\n",
    "def do_four(f):\n",
    "    f()\n",
    "    f()\n",
    "    f()\n",
    "    f()\n",
    "    \n",
    "def grid():\n",
    "    cross()\n",
    "    do_four(dash)\n",
    "    cross()\n",
    "    do_four(dash)\n",
    "    cross()\n",
    "\n",
    "grid()"
   ]
  },
  {
   "cell_type": "markdown",
   "id": "7964a817",
   "metadata": {},
   "source": [
    "# Chapter 5"
   ]
  },
  {
   "cell_type": "markdown",
   "id": "47299aff",
   "metadata": {},
   "source": [
    "## Exercise 5.2"
   ]
  },
  {
   "cell_type": "code",
   "execution_count": 3,
   "id": "8d42fa1d",
   "metadata": {},
   "outputs": [
    {
     "name": "stdout",
     "output_type": "stream",
     "text": [
      "Enter an integer a: \n",
      "2\n",
      "Enter an integer b: \n",
      "3\n",
      "Enter an integer c: \n",
      "2\n",
      "Enter an integer n: \n",
      "4\n",
      "No that doesnt work\n"
     ]
    }
   ],
   "source": [
    "def check_fermat(a,b,c,n):\n",
    "    \"\"\"Checks for a,b,c,n if the theorem holds\"\"\"\n",
    "    a=int(input(\"Enter an integer a: \\n\"))\n",
    "    b=int(input(\"Enter an integer b: \\n\"))\n",
    "    c=int(input(\"Enter an integer c: \\n\"))\n",
    "    n=int(input(\"Enter an integer n: \\n\"))\n",
    "    lhs=a**n+b**n\n",
    "    rhs=c**n\n",
    "    if rhs==lhs:\n",
    "        print(\"Holy smokes, Fermat was wrong!\")\n",
    "    else:\n",
    "        print(\"No that doesnt work\")\n",
    "\n",
    "check_fermat(3,4,2,5)"
   ]
  },
  {
   "cell_type": "code",
   "execution_count": 4,
   "id": "3806314a",
   "metadata": {},
   "outputs": [],
   "source": [
    "## Exercise 5.3"
   ]
  },
  {
   "cell_type": "code",
   "execution_count": 5,
   "id": "7142f942",
   "metadata": {},
   "outputs": [
    {
     "name": "stdout",
     "output_type": "stream",
     "text": [
      "Enter a length a: \n",
      "2\n",
      "Enter a length b: \n",
      "5\n",
      "Enter a length c: \n",
      "1\n",
      "False\n"
     ]
    }
   ],
   "source": [
    "def is_triangle(a,b,c):\n",
    "    if a+b<c or a+c<b or c+b<a:\n",
    "        print(\"False\")\n",
    "    else:\n",
    "        print(\"True\")\n",
    "\n",
    "    \n",
    "a=int(input(\"Enter a length a: \\n\"))\n",
    "b=int(input(\"Enter a length b: \\n\"))\n",
    "c=int(input(\"Enter a length c: \\n\"))\n",
    "    \n",
    "is_triangle(a, b, c)"
   ]
  },
  {
   "cell_type": "code",
   "execution_count": 29,
   "id": "d755e34d",
   "metadata": {},
   "outputs": [
    {
     "name": "stdout",
     "output_type": "stream",
     "text": [
      "38\n",
      "38\n"
     ]
    }
   ],
   "source": [
    "def recurse(n, s):\n",
    "    \"\"\"\"A function that takes two arguments and runs n times. Each time It prints the result of n**2+s-sum_1^(n-1)  \"\"\"\n",
    "    if n == 0:\n",
    "        print(s)\n",
    "    else:\n",
    "        recurse(n-1, n+s)\n",
    "\n",
    "recurse(7, 10)\n",
    "        #the result function shows that the result of the recurse function is the one defined in the variable \"res\"#\n",
    "def result(n, s):\n",
    "    sum1=0\n",
    "    for i in range(1,n):\n",
    "        sum1=sum1+i\n",
    "    res=n**2+s-sum1\n",
    "    print(res)\n",
    "    \n",
    "\n",
    "result(7,10)  \n",
    "\n",
    "\n",
    "    "
   ]
  },
  {
   "cell_type": "code",
   "execution_count": null,
   "id": "431bc9f5",
   "metadata": {},
   "outputs": [],
   "source": []
  }
 ],
 "metadata": {
  "kernelspec": {
   "display_name": "Python 3",
   "language": "python",
   "name": "python3"
  },
  "language_info": {
   "codemirror_mode": {
    "name": "ipython",
    "version": 3
   },
   "file_extension": ".py",
   "mimetype": "text/x-python",
   "name": "python",
   "nbconvert_exporter": "python",
   "pygments_lexer": "ipython3",
   "version": "3.8.8"
  }
 },
 "nbformat": 4,
 "nbformat_minor": 5
}
